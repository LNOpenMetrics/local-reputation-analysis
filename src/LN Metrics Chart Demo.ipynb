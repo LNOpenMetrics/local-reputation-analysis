{
 "cells": [
  {
   "cell_type": "markdown",
   "id": "published-belfast",
   "metadata": {},
   "source": [
    "# Lightning Metrics Chart Demo\n",
    "\n",
    "The following document contains a demos of chart that is possible make from the metrics available on the [lightning-metrics-rfc](https://github.com/OpenLNMetrics/lightning-metrics-rfc)\n",
    "\n",
    "## Table of Content\n",
    "\n",
    "- Introduction: An introduction on lightning-metrics-rfc;\n",
    "- Description of The Metrics: A summary of the metrics that are implemented in this demo;\n",
    "- Chart from Metrics: A implementation of the chart shows described in the previous section;\n",
    "- Contributions: How contribute in the demo with other nodes data;\n",
    "- Donations: Contribute if you like the idea to have a Open Source Metrics of the Lightning Network."
   ]
  },
  {
   "cell_type": "markdown",
   "id": "floating-parks",
   "metadata": {},
   "source": [
    "## Introduction\n",
    "\n",
    "TODO"
   ]
  },
  {
   "cell_type": "markdown",
   "id": "early-employer",
   "metadata": {},
   "source": [
    "## Description of The Metrics\n",
    "\n",
    "### Metrics One\n",
    "\n",
    "TODO"
   ]
  },
  {
   "cell_type": "markdown",
   "id": "seeing-hepatitis",
   "metadata": {},
   "source": [
    "## Chart from Metrics\n",
    "\n",
    "### Metrics One\n",
    "\n",
    "TODO"
   ]
  },
  {
   "cell_type": "markdown",
   "id": "external-bedroom",
   "metadata": {},
   "source": [
    "## Contributions\n",
    "\n",
    "TODO"
   ]
  },
  {
   "cell_type": "markdown",
   "id": "divided-briefs",
   "metadata": {},
   "source": [
    "## Donations\n",
    "\n",
    "TODO"
   ]
  }
 ],
 "metadata": {
  "kernelspec": {
   "display_name": "Python 3",
   "language": "python",
   "name": "python3"
  },
  "language_info": {
   "codemirror_mode": {
    "name": "ipython",
    "version": 3
   },
   "file_extension": ".py",
   "mimetype": "text/x-python",
   "name": "python",
   "nbconvert_exporter": "python",
   "pygments_lexer": "ipython3",
   "version": "3.8.10"
  }
 },
 "nbformat": 4,
 "nbformat_minor": 5
}
