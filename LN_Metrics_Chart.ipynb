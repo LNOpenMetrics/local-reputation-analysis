{
 "cells": [
  {
   "cell_type": "markdown",
   "id": "transsexual-beijing",
   "metadata": {},
   "source": [
    "# Lightning Metrics Chart Demo\n",
    "\n",
    "The following document contains a demos of chart that is possible make from the metrics available on the [lightning-metrics-rfc](https://github.com/OpenLNMetrics/lightning-metrics-rfc)\n",
    "\n",
    "## Table of Content\n",
    "\n",
    "- Introduction: An introduction on lightning-metrics-rfc;\n",
    "- Description of The Metrics: A summary of the metrics that are implemented in this demo;\n",
    "- Chart from Metrics: A implementation of the chart shows described in the previous section;\n",
    "- Contributions: How contribute in the demo with other nodes data;\n",
    "- Donations: Contribute if you like the idea to have a Open Source Metrics of the Lightning Network."
   ]
  },
  {
   "cell_type": "code",
   "execution_count": 1,
   "id": "1690f4f8",
   "metadata": {},
   "outputs": [],
   "source": [
    "%matplotlib inline\n",
    "from src import ChartMaker\n",
    "\n",
    "maker = ChartMaker()"
   ]
  },
  {
   "cell_type": "markdown",
   "id": "sustainable-jaguar",
   "metadata": {},
   "source": [
    "## Introduction\n",
    "\n",
    "TODO"
   ]
  },
  {
   "cell_type": "markdown",
   "id": "auburn-electron",
   "metadata": {},
   "source": [
    "## Description of The Metrics\n",
    "\n",
    "### Lightning Network Local Reputation\n",
    "\n",
    "TODO"
   ]
  },
  {
   "cell_type": "code",
   "execution_count": null,
   "id": "tamil-rugby",
   "metadata": {
    "scrolled": true
   },
   "outputs": [],
   "source": [
    "maker.show_uptime_nodes(\"bitcoin\")"
   ]
  },
  {
   "cell_type": "code",
   "execution_count": null,
   "id": "03b25c89",
   "metadata": {},
   "outputs": [],
   "source": [
    "maker.show_forwards_activity_node(\"bitcoin\", \"024b9a1fa8e006f1e3937f65f66c408e6da8e1ca728ea43222a7381df1cc449605\")"
   ]
  },
  {
   "cell_type": "code",
   "execution_count": null,
   "id": "1fd1174a",
   "metadata": {},
   "outputs": [],
   "source": [
    "maker.show_forwards_activity_node_for_all_period(\"bitcoin\", \"024b9a1fa8e006f1e3937f65f66c408e6da8e1ca728ea43222a7381df1cc449605\")"
   ]
  },
  {
   "cell_type": "markdown",
   "id": "simplified-truck",
   "metadata": {},
   "source": [
    "Metrics from channel info"
   ]
  },
  {
   "cell_type": "markdown",
   "id": "promotional-empire",
   "metadata": {},
   "source": [
    "## Contributions\n",
    "\n",
    "TODO"
   ]
  },
  {
   "cell_type": "markdown",
   "id": "aquatic-bibliography",
   "metadata": {},
   "source": [
    "## Donations\n",
    "\n",
    "TODO"
   ]
  }
 ],
 "metadata": {
  "kernelspec": {
   "display_name": "Python 3 (ipykernel)",
   "language": "python",
   "name": "python3"
  },
  "language_info": {
   "codemirror_mode": {
    "name": "ipython",
    "version": 3
   },
   "file_extension": ".py",
   "mimetype": "text/x-python",
   "name": "python",
   "nbconvert_exporter": "python",
   "pygments_lexer": "ipython3",
   "version": "3.10.10"
  }
 },
 "nbformat": 4,
 "nbformat_minor": 5
}
